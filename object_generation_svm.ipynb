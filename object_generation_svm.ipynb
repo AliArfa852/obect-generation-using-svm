{
 "cells": [
  {
   "cell_type": "code",
   "execution_count": null,
   "metadata": {},
   "outputs": [],
   "source": [
    "import numpy as np\n",
    "import matplotlib.pyplot as plt\n",
    "from sklearn.svm import SVC\n",
    "from sklearn.model_selection import train_test_split\n",
    "from sklearn.metrics import accuracy_score, classification_report, confusion_matrix\n",
    "from keras.datasets import cifar10\n",
    "from keras.applications import ResNet50\n",
    "from keras.applications.resnet import preprocess_input\n",
    "from keras.preprocessing.image import img_to_array\n",
    "from keras.models import Model\n"
   ]
  },
  {
   "cell_type": "code",
   "execution_count": null,
   "metadata": {},
   "outputs": [],
   "source": [
    "# Load the CIFAR-10 dataset\n",
    "(x_train, y_train), (x_test, y_test) = cifar10.load_data()\n",
    "\n",
    "# Convert labels to 1D arrays\n",
    "y_train = y_train.flatten()\n",
    "y_test = y_test.flatten()\n",
    "\n",
    "# Print shape of the dataset\n",
    "print(f\"Training data shape: {x_train.shape}\")\n",
    "print(f\"Test data shape: {x_test.shape}\")\n"
   ]
  },
  {
   "cell_type": "code",
   "execution_count": null,
   "metadata": {},
   "outputs": [],
   "source": [
    "# Load the ResNet50 model pre-trained on ImageNet\n",
    "resnet = ResNet50(weights=\"imagenet\", include_top=False, input_shape=(32, 32, 3))\n",
    "\n",
    "# Create a new model to extract features from the last layer\n",
    "feature_extractor = Model(inputs=resnet.input, outputs=resnet.layers[-1].output)\n",
    "\n",
    "# Preprocess the images and extract features\n",
    "def extract_features(images):\n",
    "    images = preprocess_input(images)  # Preprocess input for ResNet50\n",
    "    features = feature_extractor.predict(images)\n",
    "    return features.reshape(features.shape[0], -1)  # Flatten the features\n",
    "\n",
    "# Extract features from the training and test data\n",
    "x_train_features = extract_features(x_train)\n",
    "x_test_features = extract_features(x_test)\n",
    "\n",
    "# Print the shape of the extracted features\n",
    "print(f\"Training features shape: {x_train_features.shape}\")\n",
    "print(f\"Test features shape: {x_test_features.shape}\")\n"
   ]
  },
  {
   "cell_type": "code",
   "execution_count": null,
   "metadata": {},
   "outputs": [],
   "source": [
    "# Train an SVM classifier using the extracted features\n",
    "svm_model = SVC(kernel='rbf', C=1, gamma='auto')\n",
    "svm_model.fit(x_train_features, y_train)\n",
    "\n",
    "# Predict on the test set\n",
    "y_pred = svm_model.predict(x_test_features)\n",
    "\n",
    "# Evaluate the model's performance\n",
    "accuracy = accuracy_score(y_test, y_pred)\n",
    "print(f\"Accuracy: {accuracy:.4f}\")\n",
    "print(\"\\nClassification Report:\")\n",
    "print(classification_report(y_test, y_pred))\n"
   ]
  },
  {
   "cell_type": "code",
   "execution_count": null,
   "metadata": {},
   "outputs": [],
   "source": [
    "# Generate the confusion matrix\n",
    "conf_matrix = confusion_matrix(y_test, y_pred)\n",
    "\n",
    "# Plot the confusion matrix\n",
    "plt.figure(figsize=(10, 8))\n",
    "plt.imshow(conf_matrix, cmap=\"Blues\", interpolation=\"none\")\n",
    "plt.title(\"Confusion Matrix\")\n",
    "plt.colorbar()\n",
    "plt.show()\n"
   ]
  },
  {
   "cell_type": "code",
   "execution_count": null,
   "metadata": {},
   "outputs": [],
   "source": [
    "# Helper function to plot a few test images with their predicted and true labels\n",
    "def plot_predictions(images, true_labels, pred_labels, class_names, n=10):\n",
    "    plt.figure(figsize=(15, 5))\n",
    "    for i in range(n):\n",
    "        plt.subplot(2, 5, i + 1)\n",
    "        plt.imshow(images[i])\n",
    "        plt.title(f\"True: {class_names[true_labels[i]]}\\nPred: {class_names[pred_labels[i]]}\")\n",
    "        plt.axis('off')\n",
    "\n",
    "# CIFAR-10 class names\n",
    "class_names = ['airplane', 'automobile', 'bird', 'cat', 'deer', 'dog', 'frog', 'horse', 'ship', 'truck']\n",
    "\n",
    "# Plot first 10 test images with predictions\n",
    "plot_predictions(x_test[:10], y_test[:10], y_pred[:10], class_names)\n"
   ]
  },
  {
   "cell_type": "code",
   "execution_count": null,
   "metadata": {},
   "outputs": [],
   "source": []
  }
 ],
 "metadata": {
  "language_info": {
   "name": "python"
  }
 },
 "nbformat": 4,
 "nbformat_minor": 2
}
